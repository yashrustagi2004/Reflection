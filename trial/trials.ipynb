{
 "cells": [
  {
   "cell_type": "code",
   "execution_count": 1,
   "id": "d56e700b",
   "metadata": {},
   "outputs": [
    {
     "name": "stderr",
     "output_type": "stream",
     "text": [
      "d:\\Anaconda\\envs\\medibot\\lib\\site-packages\\tqdm\\auto.py:21: TqdmWarning: IProgress not found. Please update jupyter and ipywidgets. See https://ipywidgets.readthedocs.io/en/stable/user_install.html\n",
      "  from .autonotebook import tqdm as notebook_tqdm\n"
     ]
    }
   ],
   "source": [
    "# 2. Import required libraries\n",
    "import os\n",
    "from dotenv import load_dotenv\n",
    "from langchain.document_loaders import PyPDFLoader, DirectoryLoader\n",
    "from langchain.text_splitter import RecursiveCharacterTextSplitter\n",
    "from langchain.embeddings import HuggingFaceEmbeddings\n",
    "from langchain_pinecone import PineconeVectorStore\n",
    "from langchain_google_genai import ChatGoogleGenerativeAI\n",
    "from langchain.chains import create_retrieval_chain\n",
    "from langchain.chains.combine_documents import create_stuff_documents_chain\n",
    "from langchain_core.prompts import ChatPromptTemplate\n",
    "from pinecone import Pinecone, ServerlessSpec\n",
    "\n",
    "# 3. Load Environment Variables\n",
    "# Create a .env file with your PINECONE_API_KEY and GOOGLE_API_KEY\n",
    "load_dotenv()\n",
    "\n",
    "PINECONE_API_KEY = os.getenv(\"PINECONE_API_KEY\")\n",
    "GOOGLE_API_KEY = os.getenv(\"GOOGLE_API_KEY\")\n",
    "\n",
    "# Set them as environment variables if needed\n",
    "os.environ[\"PINECONE_API_KEY\"] = PINECONE_API_KEY\n",
    "os.environ[\"GOOGLE_API_KEY\"] = GOOGLE_API_KEY"
   ]
  },
  {
   "cell_type": "code",
   "execution_count": 7,
   "id": "4661c5fc",
   "metadata": {},
   "outputs": [],
   "source": [
    "os.chdir(\"../\")"
   ]
  },
  {
   "cell_type": "code",
   "execution_count": 9,
   "id": "f608f5aa",
   "metadata": {},
   "outputs": [],
   "source": [
    "# 1. Create a directory named 'job_documents' and place your resume and job description PDFs inside.\n",
    "\n",
    "# 2. Load documents from the directory\n",
    "def load_documents(directory_path):\n",
    "    # Supports various file types, focusing on PDFs here\n",
    "    loader = DirectoryLoader(\n",
    "        directory_path,\n",
    "        glob=\"*.pdf\",\n",
    "        loader_cls=PyPDFLoader\n",
    "    )\n",
    "    documents = loader.load()\n",
    "    return documents\n"
   ]
  },
  {
   "cell_type": "code",
   "execution_count": 10,
   "id": "3f54bc0d",
   "metadata": {},
   "outputs": [
    {
     "name": "stdout",
     "output_type": "stream",
     "text": [
      "Loaded 5 documents.\n"
     ]
    }
   ],
   "source": [
    "docs = load_documents(\"data\")\n",
    "print(f\"Loaded {len(docs)} documents.\")"
   ]
  },
  {
   "cell_type": "code",
   "execution_count": 11,
   "id": "aba8382c",
   "metadata": {},
   "outputs": [
    {
     "name": "stdout",
     "output_type": "stream",
     "text": [
      "Added user ID 'user_abc_123' to the metadata of 10 chunks.\n"
     ]
    }
   ],
   "source": [
    "# Assume you have a unique identifier for the current user or session\n",
    "current_user_id = \"user_abc_123\"\n",
    "\n",
    "# Split documents into smaller chunks (as before)\n",
    "def split_text_into_chunks(documents):\n",
    "    text_splitter = RecursiveCharacterTextSplitter(\n",
    "        chunk_size=1000,\n",
    "        chunk_overlap=100\n",
    "    )\n",
    "    chunks = text_splitter.split_documents(documents)\n",
    "    return chunks\n",
    "\n",
    "text_chunks = split_text_into_chunks(docs)\n",
    "\n",
    "# **NEW STEP: Add the user_id to each chunk's metadata**\n",
    "for chunk in text_chunks:\n",
    "    chunk.metadata['user_id'] = current_user_id\n",
    "\n",
    "print(f\"Added user ID '{current_user_id}' to the metadata of {len(text_chunks)} chunks.\")\n",
    "\n",
    "# The next step, `PineconeVectorStore.from_documents`, will automatically\n",
    "# save this new metadata along with the embeddings in Pinecone."
   ]
  },
  {
   "cell_type": "code",
   "execution_count": 12,
   "id": "49e79197",
   "metadata": {},
   "outputs": [
    {
     "name": "stdout",
     "output_type": "stream",
     "text": [
      "[Document(metadata={'producer': 'pdfTeX-1.40.20', 'creator': 'LaTeX with hyperref', 'creationdate': '2020-08-29T04:02:33+00:00', 'author': '', 'keywords': '', 'moddate': '2020-08-29T04:02:33+00:00', 'ptex.fullbanner': 'This is pdfTeX, Version 3.14159265-2.6-1.40.20 (TeX Live 2019) kpathsea version 6.3.1', 'subject': '', 'title': '', 'trapped': '/False', 'source': 'data\\\\jakes-resume.pdf', 'total_pages': 1, 'page': 0, 'page_label': '1', 'user_id': 'user_abc_123'}, page_content='Jake Ryan\\n123-456-7890 | jake@su.edu | linkedin.com/in/jake | github.com/jake\\nEducation\\nSouthwestern University Georgetown, TX\\nBachelor of Arts in Computer Science, Minor in Business Aug. 2018 – May 2021\\nBlinn College Bryan, TX\\nAssociate’s in Liberal Arts Aug. 2014 – May 2018\\nExperience\\nUndergraduate Research Assistant June 2020 – Present\\nTexas A&M University College Station, TX\\n• Developed a REST API using FastAPI and PostgreSQL to store data from learning management systems\\n• Developed a full-stack web application using Flask, React, PostgreSQL and Docker to analyze GitHub data\\n• Explored ways to visualize GitHub collaboration in a classroom setting\\nInformation Technology Support Specialist Sep. 2018 – Present\\nSouthwestern University Georgetown, TX\\n• Communicate with managers to set up campus computers used on campus\\n• Assess and troubleshoot computer problems brought by students, faculty and staff\\n• Maintain upkeep of computers, classroom equipment, and 200 printers across campus'), Document(metadata={'producer': 'pdfTeX-1.40.20', 'creator': 'LaTeX with hyperref', 'creationdate': '2020-08-29T04:02:33+00:00', 'author': '', 'keywords': '', 'moddate': '2020-08-29T04:02:33+00:00', 'ptex.fullbanner': 'This is pdfTeX, Version 3.14159265-2.6-1.40.20 (TeX Live 2019) kpathsea version 6.3.1', 'subject': '', 'title': '', 'trapped': '/False', 'source': 'data\\\\jakes-resume.pdf', 'total_pages': 1, 'page': 0, 'page_label': '1', 'user_id': 'user_abc_123'}, page_content='• Maintain upkeep of computers, classroom equipment, and 200 printers across campus\\nArtificial Intelligence Research Assistant May 2019 – July 2019\\nSouthwestern University Georgetown, TX\\n• Explored methods to generate video game dungeons based off of The Legend of Zelda\\n• Developed a game in Java to test the generated dungeons\\n• Contributed 50K+ lines of code to an established codebase via Git\\n• Conducted a human subject study to determine which video game dungeon generation technique is enjoyable\\n• Wrote an 8-page paper and gave multiple presentations on-campus\\n• Presented virtually to the World Conference on Computational Intelligence\\nProjects\\nGitlytics | Python, Flask, React, PostgreSQL, Docker June 2020 – Present\\n• Developed a full-stack web application using with Flask serving a REST API with React as the frontend\\n• Implemented GitHub OAuth to get data from user’s repositories\\n• Visualized GitHub data to show collaboration\\n• Used Celery and Redis for asynchronous tasks'), Document(metadata={'producer': 'pdfTeX-1.40.20', 'creator': 'LaTeX with hyperref', 'creationdate': '2020-08-29T04:02:33+00:00', 'author': '', 'keywords': '', 'moddate': '2020-08-29T04:02:33+00:00', 'ptex.fullbanner': 'This is pdfTeX, Version 3.14159265-2.6-1.40.20 (TeX Live 2019) kpathsea version 6.3.1', 'subject': '', 'title': '', 'trapped': '/False', 'source': 'data\\\\jakes-resume.pdf', 'total_pages': 1, 'page': 0, 'page_label': '1', 'user_id': 'user_abc_123'}, page_content='• Visualized GitHub data to show collaboration\\n• Used Celery and Redis for asynchronous tasks\\nSimple Paintball | Spigot API, Java, Maven, TravisCI, Git May 2018 – May 2020\\n• Developed a Minecraft server plugin to entertain kids during free time for a previous job\\n• Published plugin to websites gaining 2K+ downloads and an average 4.5/5-star review\\n• Implemented continuous delivery using TravisCI to build the plugin upon new a release\\n• Collaborated with Minecraft server administrators to suggest features and get feedback about the plugin\\nTechnical Skills\\nLanguages: Java, Python, C/C++, SQL (Postgres), JavaScript, HTML/CSS, R\\nFrameworks: React, Node.js, Flask, JUnit, WordPress, Material-UI, FastAPI\\nDeveloper Tools: Git, Docker, TravisCI, Google Cloud Platform, VS Code, Visual Studio, PyCharm, IntelliJ, Eclipse\\nLibraries: pandas, NumPy, Matplotlib'), Document(metadata={'producer': 'Mac OS X 10.11.1 Quartz PDFContext', 'creator': 'Pages', 'creationdate': \"D:20151201175614Z00'00'\", 'title': 'SFSoftwareDeveloper', 'moddate': \"D:20151201175614Z00'00'\", 'source': 'data\\\\SFSoftwareDeveloper.pdf', 'total_pages': 4, 'page': 0, 'page_label': '1', 'user_id': 'user_abc_123'}, page_content='Software Developer Job Description \\nJob Summary \\nProvides programming support for new and existing information systems based on user \\nspecifications with guidance from other staff members. Consults with and provides users with \\nassistance in determining program enhancements and required maintenance. \\nJob Duties \\n• Performs program maintenance, modifications, and enhancements to new/existing \\nsystems through programming, testing, documenting, and training users. \\n• Confers with user personnel and department representatives in resolving questions of \\nprogram/system intent, output requirements, input data acquisition, and inclusion of \\ninternal checks and controls. \\n• Responsible for learning Company systems and how they are automated. \\n• Provides on-call programming support. \\n• Communicates and works as needed with any internal/external customers with a more \\nsenior developer/engineer or manager present.'), Document(metadata={'producer': 'Mac OS X 10.11.1 Quartz PDFContext', 'creator': 'Pages', 'creationdate': \"D:20151201175614Z00'00'\", 'title': 'SFSoftwareDeveloper', 'moddate': \"D:20151201175614Z00'00'\", 'source': 'data\\\\SFSoftwareDeveloper.pdf', 'total_pages': 4, 'page': 0, 'page_label': '1', 'user_id': 'user_abc_123'}, page_content='senior developer/engineer or manager present. \\n• All Southeastern Freight Lines associates must embrace and support the five values that \\ndefine the Company’s culture and be personally committed to the Quality Improvement \\nProcess. \\n• Performs other duties as assigned by management. \\nEducation, Experience, Licenses & Certifications \\nFLSA Status: Exempt Date: 8/10/15\\nDepartment: IT Location: Support Center\\nReports To: Manager of Software \\nDevelopment\\nDirectly Supervises: N/A'), Document(metadata={'producer': 'Mac OS X 10.11.1 Quartz PDFContext', 'creator': 'Pages', 'creationdate': \"D:20151201175614Z00'00'\", 'title': 'SFSoftwareDeveloper', 'moddate': \"D:20151201175614Z00'00'\", 'source': 'data\\\\SFSoftwareDeveloper.pdf', 'total_pages': 4, 'page': 1, 'page_label': '2', 'user_id': 'user_abc_123'}, page_content='Skills/Requirements \\n• Working knowledge of information technology fundamentals and programming languages.  \\n• Ability to gain detailed knowledge of in-house programming languages, program design \\nand development procedures, turnover procedures, and housekeeping standards. \\n• Ability to perform analysis of straightforward system functionality with support of more \\nsenior Software Engineers. \\n• Ability to gain detailed knowledge of general system architecture and functionality, as \\nwell as detailed knowledge of specific sub-systems. \\n• Working knowledge of commonly used concepts, practices, and procedures as it relates to \\nsoftware development. \\n• Ability to effectively manage time while working on multiple assignments with guidance as \\nto relative priorities of assignments. \\nPhysical Demands/Working Conditions \\n• The physical activities of this position include: talking, hearing, and keying. \\n• The physical requirements of this position are described as sedentary work. Sedentary'), Document(metadata={'producer': 'Mac OS X 10.11.1 Quartz PDFContext', 'creator': 'Pages', 'creationdate': \"D:20151201175614Z00'00'\", 'title': 'SFSoftwareDeveloper', 'moddate': \"D:20151201175614Z00'00'\", 'source': 'data\\\\SFSoftwareDeveloper.pdf', 'total_pages': 4, 'page': 1, 'page_label': '2', 'user_id': 'user_abc_123'}, page_content=\"• The physical requirements of this position are described as sedentary work. Sedentary \\nwork involves exerting up to 10 pounds of force occasionally and/or negligible amount of \\nforce frequently or constantly to lift, carry, push, pull or otherwise move objects, \\nExperience Required \\n• 1 year of information systems experience as a \\nSoftware Developer  \\nEducation \\n• An Associate's Degree in Computer \\nScience, Computer Information \\nServices, Computer Engineering, \\nMathematics, or Engineering is \\nrequired  \\n• A Bachelor's Degree in Computer \\nScience, Computer Information \\nServices, Computer Engineering, \\nMathematics, or Engineering is \\npreferred \\nExperience Preferred  \\n• 3 years of information systems experience as a \\nSoftware Developer \\nLicenses & Certifications  \\n• None required \\nThe statements contained in this job description are intended to describe the general nature and \\nlevel of work being performed by Associates assigned to the job.  They are not intended to be\"), Document(metadata={'producer': 'Mac OS X 10.11.1 Quartz PDFContext', 'creator': 'Pages', 'creationdate': \"D:20151201175614Z00'00'\", 'title': 'SFSoftwareDeveloper', 'moddate': \"D:20151201175614Z00'00'\", 'source': 'data\\\\SFSoftwareDeveloper.pdf', 'total_pages': 4, 'page': 1, 'page_label': '2', 'user_id': 'user_abc_123'}, page_content='level of work being performed by Associates assigned to the job.  They are not intended to be \\ninterpreted as an exhaustive list of all responsibilities, duties and skills required of the \\nindividual(s) holding this position.'), Document(metadata={'producer': 'Mac OS X 10.11.1 Quartz PDFContext', 'creator': 'Pages', 'creationdate': \"D:20151201175614Z00'00'\", 'title': 'SFSoftwareDeveloper', 'moddate': \"D:20151201175614Z00'00'\", 'source': 'data\\\\SFSoftwareDeveloper.pdf', 'total_pages': 4, 'page': 2, 'page_label': '3', 'user_id': 'user_abc_123'}, page_content='including the human body. Work involves sitting most of the time. Walking and standing \\nare required only occasionally and all other sedentary criteria are met. \\n• The worker is required to have visual acuity in order to perform activities at distances \\nclose to the eyes. \\n• The worker is not substantially exposed to adverse environmental conditions (such as in \\ntypical office or administrative work). \\nThe statements contained in this job description are intended to describe the general nature and \\nlevel of work being performed by Associates assigned to the job.  They are not intended to be \\ninterpreted as an exhaustive list of all responsibilities, duties and skills required of the \\nindividual(s) holding this position.'), Document(metadata={'producer': 'Mac OS X 10.11.1 Quartz PDFContext', 'creator': 'Pages', 'creationdate': \"D:20151201175614Z00'00'\", 'title': 'SFSoftwareDeveloper', 'moddate': \"D:20151201175614Z00'00'\", 'source': 'data\\\\SFSoftwareDeveloper.pdf', 'total_pages': 4, 'page': 3, 'page_label': '4', 'user_id': 'user_abc_123'}, page_content='The statements contained in this job description are intended to describe the general nature and \\nlevel of work being performed by Associates assigned to the job.  They are not intended to be \\ninterpreted as an exhaustive list of all responsibilities, duties and skills required of the \\nindividual(s) holding this position.')]\n"
     ]
    }
   ],
   "source": [
    "print(text_chunks)"
   ]
  },
  {
   "cell_type": "code",
   "execution_count": 13,
   "id": "8f4e09af",
   "metadata": {},
   "outputs": [
    {
     "name": "stderr",
     "output_type": "stream",
     "text": [
      "C:\\Users\\Palak\\AppData\\Local\\Temp\\ipykernel_12068\\1709490757.py:4: LangChainDeprecationWarning: The class `HuggingFaceEmbeddings` was deprecated in LangChain 0.2.2 and will be removed in 1.0. An updated version of the class exists in the :class:`~langchain-huggingface package and should be used instead. To use it run `pip install -U :class:`~langchain-huggingface` and import as `from :class:`~langchain_huggingface import HuggingFaceEmbeddings``.\n",
      "  embeddings = HuggingFaceEmbeddings(model_name=model_name)\n"
     ]
    },
    {
     "name": "stdout",
     "output_type": "stream",
     "text": [
      "Embedding model loaded.\n"
     ]
    }
   ],
   "source": [
    "# 1. Initialize the embedding model\n",
    "def get_embedding_model():\n",
    "    model_name = \"sentence-transformers/all-MiniLM-L6-v2\"\n",
    "    embeddings = HuggingFaceEmbeddings(model_name=model_name)\n",
    "    return embeddings\n",
    "\n",
    "embeddings = get_embedding_model()\n",
    "print(\"Embedding model loaded.\")\n"
   ]
  },
  {
   "cell_type": "code",
   "execution_count": 14,
   "id": "5ecc5acb",
   "metadata": {},
   "outputs": [
    {
     "name": "stdout",
     "output_type": "stream",
     "text": [
      "Creating new index: interview-prep-assistant\n",
      "Storing document embeddings in Pinecone...\n",
      "Embeddings stored successfully.\n"
     ]
    }
   ],
   "source": [
    "\n",
    "# 2. Initialize Pinecone and create an index\n",
    "pc = Pinecone(api_key=PINECONE_API_KEY)\n",
    "index_name = \"interview-prep-assistant\"\n",
    "embedding_dimension = 384 # Based on all-MiniLM-L6-v2\n",
    "\n",
    "if index_name not in pc.list_indexes().names():\n",
    "    print(f\"Creating new index: {index_name}\")\n",
    "    pc.create_index(\n",
    "        name=index_name,\n",
    "        dimension=embedding_dimension,\n",
    "        metric=\"cosine\",\n",
    "        spec=ServerlessSpec(cloud=\"aws\", region=\"us-east-1\")\n",
    "    )\n",
    "\n",
    "# 3. Store the document chunks in Pinecone\n",
    "# This will embed the text_chunks and upload them to your index.\n",
    "print(\"Storing document embeddings in Pinecone...\")\n",
    "docsearch = PineconeVectorStore.from_documents(\n",
    "    documents=text_chunks,\n",
    "    embedding=embeddings,\n",
    "    index_name=index_name\n",
    ")\n",
    "print(\"Embeddings stored successfully.\")"
   ]
  },
  {
   "cell_type": "code",
   "execution_count": 25,
   "id": "924112be",
   "metadata": {},
   "outputs": [
    {
     "name": "stdout",
     "output_type": "stream",
     "text": [
      "--- Generated Interview Questions ---\n",
      "Okay, based on Jake Ryan's resume and the Software Developer job description, here are 6 insightful interview questions designed to assess his suitability for the role:\n",
      "\n",
      "1.  **Technical Depth & Problem Solving (FastAPI & PostgreSQL):** \"In your role as an Undergraduate Research Assistant, you developed a REST API using FastAPI and PostgreSQL. Can you describe a challenging technical problem you encountered during that project, and how you approached solving it?  Specifically, I'm interested in hearing about any performance bottlenecks you identified and how you optimized your code or database queries to address them. Please provide specific code examples if possible.\"\n",
      "    *   *Rationale:* This question probes his understanding of the technologies mentioned, his problem-solving abilities under pressure, and his ability to articulate technical solutions clearly. The specific request for code examples tests his practical coding skills and attention to detail.\n",
      "\n",
      "2.  **Full-Stack Experience & Architecture (Gitlytics):** \"Your Gitlytics project showcases full-stack development experience. Given the requirement for program maintenance, modifications, and enhancements in this role, describe a situation where you had to refactor a significant portion of the Gitlytics codebase. What were the key considerations you made when deciding how to approach the refactoring, and how did you ensure minimal disruption to the existing functionality and data integrity?\"\n",
      "    *   *Rationale:* This question assesses his experience with refactoring, a common task for software developers. It also tests his understanding of software architecture, maintainability, and risk mitigation.\n",
      "\n",
      "3.  **Collaboration & Communication (Simple Paintball):** \"The job description emphasizes communication and collaboration. Tell me about your experience collaborating with Minecraft server administrators on the Simple Paintball plugin. Can you describe a time when you received conflicting feedback from different administrators, and how you navigated that situation to arrive at a solution that satisfied everyone's needs?\"\n",
      "    *   *Rationale:* This question directly addresses the \"communication and works as needed with any internal/external customers\" requirement. It explores his ability to handle conflicting opinions, negotiate, and find common ground, which are crucial for effective teamwork.\n",
      "\n",
      "4.  **Learning Agility & Adaptability (In-house Systems):** \"The job description mentions learning Company systems. Imagine you are starting this role and need to quickly understand a large, legacy codebase written in a language you are less familiar with (e.g., C#). What steps would you take to efficiently learn the system, identify key components, and begin contributing to bug fixes or enhancements within the first few weeks?\"\n",
      "    *   *Rationale:* This question assesses his learning agility, ability to adapt to new technologies, and his proactive approach to understanding unfamiliar systems. It's crucial given the requirement to learn \"in-house programming languages\" and systems.\n",
      "\n",
      "5.  **Prioritization & Time Management (Multiple Assignments):** \"This role requires effectively managing time while working on multiple assignments with guidance as to relative priorities of assignments. Describe a time where you had to juggle multiple projects or tasks with competing deadlines. How did you prioritize your work, and what strategies did you use to ensure that you met all of your commitments?\"\n",
      "    *   *Rationale:* This behavioral question directly addresses the \"Ability to effectively manage time\" requirement. It aims to understand how he handles workload pressure, prioritizes tasks, and meets deadlines.\n",
      "\n",
      "6.  **Experience with Testing and Documentation:** \"The job description mentions program testing and documenting. Can you describe your approach to testing a new feature you've developed? What types of tests do you typically write (e.g., unit, integration, end-to-end), and how do you ensure that your code is well-documented for future maintainers?\"\n",
      "    *   *Rationale:* This question assesses Jake's understanding of software testing principles and his commitment to writing maintainable code. It also probes his experience with different types of testing methodologies.\n"
     ]
    }
   ],
   "source": [
    "# 1. Initialize the LLM\n",
    "llm = ChatGoogleGenerativeAI(model=\"models/gemini-2.0-flash\", temperature=0.6)\n",
    "\n",
    "# 2. Create a prompt for question generation\n",
    "question_gen_prompt_text = \"\"\"\n",
    "Based on the provided resume and job description below, please act as a senior hiring manager.\n",
    "Your task is to generate a list of 5-7 insightful interview questions that thoroughly probe the candidate's suitability for the role.\n",
    "The questions should cover technical skills, behavioral competencies, and past project experiences mentioned in the resume.\n",
    "\n",
    "<context>\n",
    "{context}\n",
    "</context>\n",
    "\n",
    "Questions:\n",
    "\"\"\"\n",
    "question_gen_prompt = ChatPromptTemplate.from_template(question_gen_prompt_text)\n",
    "\n",
    "# 3. Create and run the generation chain\n",
    "# We combine the content of all documents to provide full context\n",
    "full_document_content = \"\\\\n\\\\n\".join([doc.page_content for doc in docs])\n",
    "question_generation_chain = question_gen_prompt | llm\n",
    "\n",
    "# 4. Generate the questions\n",
    "response = question_generation_chain.invoke({\"context\": full_document_content})\n",
    "interview_questions = response.content.strip().split('\\\\n')\n",
    "print(\"--- Generated Interview Questions ---\")\n",
    "for q in interview_questions:\n",
    "    print(q)"
   ]
  },
  {
   "cell_type": "code",
   "execution_count": 26,
   "id": "25ee00c8",
   "metadata": {},
   "outputs": [
    {
     "data": {
      "text/plain": [
       "AIMessage(content='Okay, based on Jake Ryan\\'s resume and the Software Developer job description, here are 6 insightful interview questions designed to assess his suitability for the role:\\n\\n1.  **Technical Depth & Problem Solving (FastAPI & PostgreSQL):** \"In your role as an Undergraduate Research Assistant, you developed a REST API using FastAPI and PostgreSQL. Can you describe a challenging technical problem you encountered during that project, and how you approached solving it?  Specifically, I\\'m interested in hearing about any performance bottlenecks you identified and how you optimized your code or database queries to address them. Please provide specific code examples if possible.\"\\n    *   *Rationale:* This question probes his understanding of the technologies mentioned, his problem-solving abilities under pressure, and his ability to articulate technical solutions clearly. The specific request for code examples tests his practical coding skills and attention to detail.\\n\\n2.  **Full-Stack Experience & Architecture (Gitlytics):** \"Your Gitlytics project showcases full-stack development experience. Given the requirement for program maintenance, modifications, and enhancements in this role, describe a situation where you had to refactor a significant portion of the Gitlytics codebase. What were the key considerations you made when deciding how to approach the refactoring, and how did you ensure minimal disruption to the existing functionality and data integrity?\"\\n    *   *Rationale:* This question assesses his experience with refactoring, a common task for software developers. It also tests his understanding of software architecture, maintainability, and risk mitigation.\\n\\n3.  **Collaboration & Communication (Simple Paintball):** \"The job description emphasizes communication and collaboration. Tell me about your experience collaborating with Minecraft server administrators on the Simple Paintball plugin. Can you describe a time when you received conflicting feedback from different administrators, and how you navigated that situation to arrive at a solution that satisfied everyone\\'s needs?\"\\n    *   *Rationale:* This question directly addresses the \"communication and works as needed with any internal/external customers\" requirement. It explores his ability to handle conflicting opinions, negotiate, and find common ground, which are crucial for effective teamwork.\\n\\n4.  **Learning Agility & Adaptability (In-house Systems):** \"The job description mentions learning Company systems. Imagine you are starting this role and need to quickly understand a large, legacy codebase written in a language you are less familiar with (e.g., C#). What steps would you take to efficiently learn the system, identify key components, and begin contributing to bug fixes or enhancements within the first few weeks?\"\\n    *   *Rationale:* This question assesses his learning agility, ability to adapt to new technologies, and his proactive approach to understanding unfamiliar systems. It\\'s crucial given the requirement to learn \"in-house programming languages\" and systems.\\n\\n5.  **Prioritization & Time Management (Multiple Assignments):** \"This role requires effectively managing time while working on multiple assignments with guidance as to relative priorities of assignments. Describe a time where you had to juggle multiple projects or tasks with competing deadlines. How did you prioritize your work, and what strategies did you use to ensure that you met all of your commitments?\"\\n    *   *Rationale:* This behavioral question directly addresses the \"Ability to effectively manage time\" requirement. It aims to understand how he handles workload pressure, prioritizes tasks, and meets deadlines.\\n\\n6.  **Experience with Testing and Documentation:** \"The job description mentions program testing and documenting. Can you describe your approach to testing a new feature you\\'ve developed? What types of tests do you typically write (e.g., unit, integration, end-to-end), and how do you ensure that your code is well-documented for future maintainers?\"\\n    *   *Rationale:* This question assesses Jake\\'s understanding of software testing principles and his commitment to writing maintainable code. It also probes his experience with different types of testing methodologies.', additional_kwargs={}, response_metadata={'prompt_feedback': {'block_reason': 0, 'safety_ratings': []}, 'finish_reason': 'STOP', 'model_name': 'gemini-2.0-flash', 'safety_ratings': []}, id='run--505a5459-caba-41d4-8b9a-35f1a30e47b0-0')"
      ]
     },
     "execution_count": 26,
     "metadata": {},
     "output_type": "execute_result"
    }
   ],
   "source": [
    "response"
   ]
  },
  {
   "cell_type": "code",
   "execution_count": 28,
   "id": "49f1d57b",
   "metadata": {},
   "outputs": [
    {
     "name": "stdout",
     "output_type": "stream",
     "text": [
      "Extracted Questions:\n",
      "- In your role as an Undergraduate Research Assistant, you developed a REST API using FastAPI and PostgreSQL. Can you describe a challenging technical problem you encountered during that project, and how you approached solving it?  Specifically, I'm interested in hearing about any performance bottlenecks you identified and how you optimized your code or database queries to address them. Please provide specific code examples if possible.\n",
      "- Your Gitlytics project showcases full-stack development experience. Given the requirement for program maintenance, modifications, and enhancements in this role, describe a situation where you had to refactor a significant portion of the Gitlytics codebase. What were the key considerations you made when deciding how to approach the refactoring, and how did you ensure minimal disruption to the existing functionality and data integrity?\n",
      "- The job description emphasizes communication and collaboration. Tell me about your experience collaborating with Minecraft server administrators on the Simple Paintball plugin. Can you describe a time when you received conflicting feedback from different administrators, and how you navigated that situation to arrive at a solution that satisfied everyone's needs?\n",
      "- communication and works as needed with any internal/external customers\n",
      "- The job description mentions learning Company systems. Imagine you are starting this role and need to quickly understand a large, legacy codebase written in a language you are less familiar with (e.g., C#). What steps would you take to efficiently learn the system, identify key components, and begin contributing to bug fixes or enhancements within the first few weeks?\n",
      "- in-house programming languages\n",
      "- This role requires effectively managing time while working on multiple assignments with guidance as to relative priorities of assignments. Describe a time where you had to juggle multiple projects or tasks with competing deadlines. How did you prioritize your work, and what strategies did you use to ensure that you met all of your commitments?\n",
      "- Ability to effectively manage time\n",
      "- The job description mentions program testing and documenting. Can you describe your approach to testing a new feature you've developed? What types of tests do you typically write (e.g., unit, integration, end-to-end), and how do you ensure that your code is well-documented for future maintainers?\n"
     ]
    }
   ],
   "source": [
    "import re\n",
    "\n",
    "# Extract only the quoted question part after the numbered heading\n",
    "interview_questions = re.findall(r'“([^”]+)”|\"([^\"]+)\"', response.content)\n",
    "\n",
    "# The regex returns tuples because it captures two possible quote styles (“ ” or \" \")\n",
    "# Flatten and clean them:\n",
    "interview_questions = [q1 or q2 for q1, q2 in interview_questions]\n",
    "\n",
    "print(\"Extracted Questions:\")\n",
    "for q in interview_questions:\n",
    "    print(\"-\", q)\n"
   ]
  },
  {
   "cell_type": "code",
   "execution_count": 29,
   "id": "94dd0bad",
   "metadata": {},
   "outputs": [
    {
     "data": {
      "text/plain": [
       "[\"In your role as an Undergraduate Research Assistant, you developed a REST API using FastAPI and PostgreSQL. Can you describe a challenging technical problem you encountered during that project, and how you approached solving it?  Specifically, I'm interested in hearing about any performance bottlenecks you identified and how you optimized your code or database queries to address them. Please provide specific code examples if possible.\",\n",
       " 'Your Gitlytics project showcases full-stack development experience. Given the requirement for program maintenance, modifications, and enhancements in this role, describe a situation where you had to refactor a significant portion of the Gitlytics codebase. What were the key considerations you made when deciding how to approach the refactoring, and how did you ensure minimal disruption to the existing functionality and data integrity?',\n",
       " \"The job description emphasizes communication and collaboration. Tell me about your experience collaborating with Minecraft server administrators on the Simple Paintball plugin. Can you describe a time when you received conflicting feedback from different administrators, and how you navigated that situation to arrive at a solution that satisfied everyone's needs?\",\n",
       " 'communication and works as needed with any internal/external customers',\n",
       " 'The job description mentions learning Company systems. Imagine you are starting this role and need to quickly understand a large, legacy codebase written in a language you are less familiar with (e.g., C#). What steps would you take to efficiently learn the system, identify key components, and begin contributing to bug fixes or enhancements within the first few weeks?',\n",
       " 'in-house programming languages',\n",
       " 'This role requires effectively managing time while working on multiple assignments with guidance as to relative priorities of assignments. Describe a time where you had to juggle multiple projects or tasks with competing deadlines. How did you prioritize your work, and what strategies did you use to ensure that you met all of your commitments?',\n",
       " 'Ability to effectively manage time',\n",
       " \"The job description mentions program testing and documenting. Can you describe your approach to testing a new feature you've developed? What types of tests do you typically write (e.g., unit, integration, end-to-end), and how do you ensure that your code is well-documented for future maintainers?\"]"
      ]
     },
     "execution_count": 29,
     "metadata": {},
     "output_type": "execute_result"
    }
   ],
   "source": [
    "interview_questions"
   ]
  },
  {
   "cell_type": "code",
   "execution_count": 30,
   "id": "57a16021",
   "metadata": {},
   "outputs": [
    {
     "name": "stdout",
     "output_type": "stream",
     "text": [
      "\\n--- Generating Ideal Answers ---\n",
      "Generating answer for: In your role as an Undergraduate Research Assistant, you developed a REST API using FastAPI and PostgreSQL. Can you describe a challenging technical problem you encountered during that project, and how you approached solving it?  Specifically, I'm interested in hearing about any performance bottlenecks you identified and how you optimized your code or database queries to address them. Please provide specific code examples if possible.\n",
      "Generating answer for: Your Gitlytics project showcases full-stack development experience. Given the requirement for program maintenance, modifications, and enhancements in this role, describe a situation where you had to refactor a significant portion of the Gitlytics codebase. What were the key considerations you made when deciding how to approach the refactoring, and how did you ensure minimal disruption to the existing functionality and data integrity?\n",
      "Generating answer for: The job description emphasizes communication and collaboration. Tell me about your experience collaborating with Minecraft server administrators on the Simple Paintball plugin. Can you describe a time when you received conflicting feedback from different administrators, and how you navigated that situation to arrive at a solution that satisfied everyone's needs?\n",
      "Generating answer for: communication and works as needed with any internal/external customers\n",
      "Generating answer for: The job description mentions learning Company systems. Imagine you are starting this role and need to quickly understand a large, legacy codebase written in a language you are less familiar with (e.g., C#). What steps would you take to efficiently learn the system, identify key components, and begin contributing to bug fixes or enhancements within the first few weeks?\n",
      "Generating answer for: in-house programming languages\n",
      "Generating answer for: This role requires effectively managing time while working on multiple assignments with guidance as to relative priorities of assignments. Describe a time where you had to juggle multiple projects or tasks with competing deadlines. How did you prioritize your work, and what strategies did you use to ensure that you met all of your commitments?\n",
      "Generating answer for: Ability to effectively manage time\n",
      "Generating answer for: The job description mentions program testing and documenting. Can you describe your approach to testing a new feature you've developed? What types of tests do you typically write (e.g., unit, integration, end-to-end), and how do you ensure that your code is well-documented for future maintainers?\n"
     ]
    }
   ],
   "source": [
    "# 1. Create a retriever from our Pinecone vector store with the filter\n",
    "retriever = docsearch.as_retriever(\n",
    "    search_type=\"similarity\",\n",
    "    search_kwargs={\n",
    "        'k': 3,\n",
    "        'filter': {'user_id': current_user_id} # <-- THIS IS THE CRITICAL CHANGE\n",
    "    }\n",
    ")\n",
    "\n",
    "# 2. Create a prompt for answer generation\n",
    "answer_gen_prompt_text = \"\"\"\n",
    "You are an expert interview coach. Answer the following question based on the provided context from the candidate's resume and the job description.\n",
    "Craft a clear, concise, and compelling answer that highlights the candidate's strengths and aligns them with the job requirements.\n",
    "\n",
    "<context>\n",
    "{context}\n",
    "</context>\n",
    "\n",
    "Question: {input}\n",
    "\n",
    "Answer:\n",
    "\"\"\"\n",
    "answer_gen_prompt = ChatPromptTemplate.from_messages(\n",
    "    [(\"system\", answer_gen_prompt_text), (\"human\", \"{input}\")]\n",
    ")\n",
    "\n",
    "# 3. Create the RAG chain\n",
    "question_answer_chain = create_stuff_documents_chain(llm, answer_gen_prompt)\n",
    "rag_chain = create_retrieval_chain(retriever, question_answer_chain)\n",
    "\n",
    "# 4. Generate ideal answers for each question\n",
    "ideal_answers = {}\n",
    "print(\"\\\\n--- Generating Ideal Answers ---\")\n",
    "for question in interview_questions:\n",
    "    if not question: continue\n",
    "    print(f\"Generating answer for: {question}\")\n",
    "    response = rag_chain.invoke({\"input\": question})\n",
    "    ideal_answers[question] = response['answer']"
   ]
  },
  {
   "cell_type": "code",
   "execution_count": 31,
   "id": "317d2ecd",
   "metadata": {},
   "outputs": [
    {
     "name": "stdout",
     "output_type": "stream",
     "text": [
      "\\n--- Interview Practice ---\n",
      "Question: This role requires effectively managing time while working on multiple assignments with guidance as to relative priorities of assignments. Describe a time where you had to juggle multiple projects or tasks with competing deadlines. How did you prioritize your work, and what strategies did you use to ensure that you met all of your commitments?\n",
      "\\n--- Your Feedback ---\n",
      "Okay, let's break down your answer and see how we can improve it to better align with the ideal answer and the job requirements.\n",
      "\n",
      "**Strengths:**\n",
      "\n",
      "*   **Addresses the core question:** You acknowledge the need to juggle multiple projects and mention prioritizing based on importance and urgency.\n",
      "\n",
      "**Weaknesses:**\n",
      "\n",
      "*   **Lacks Specificity and Context:** The answer is extremely vague. It doesn't provide any details about the projects, the deadlines, or the specific strategies you used. \"Academic journey\" is too broad.\n",
      "*   **Doesn't Demonstrate Strategies:** While you mention \"importance and urgency,\" you don't explain *how* you determined these factors or *what* strategies you employed to manage your time and tasks. This is a crucial part of the question.\n",
      "*   **Doesn't Leverage Experience Effectively:** The ideal answer emphasizes using the STAR method (Situation, Task, Action, Result). Your answer lacks all of these elements. You're not showcasing your skills or accomplishments.\n",
      "*   **Fails to Acknowledge Guidance:** The job description highlights the importance of working with guidance. Your answer doesn't mention seeking or receiving any guidance.\n",
      "*   **Doesn't Focus on Results:** There's no mention of the outcomes of your efforts. Did you successfully meet all your deadlines? What did you learn from the experience?\n",
      "\n",
      "**Actionable Improvements:**\n",
      "\n",
      "1.  **Provide a Specific Example (Situation & Task):** Instead of saying \"during my academic journey,\" choose a specific semester or project where you had to juggle multiple assignments. Describe the assignments briefly. For example: \"During my junior year, I was taking a full course load, including a programming class with a major group project, a history class with weekly essays, and a statistics class with bi-weekly quizzes.\"\n",
      "\n",
      "2.  **Explain Your Prioritization Process (Action):** Elaborate on how you determined the \"importance and urgency\" of each task. Did you use a matrix? Did you consider the weight of the assignment in your overall grade? Did you consult with professors? For example: \"To prioritize, I used a matrix that considered both the impact on my final grade and the imminence of the deadline. The programming project was worth 40% of my grade and had a looming deadline, so I prioritized that. The weekly history essays were less impactful individually, but I knew falling behind would be detrimental, so I scheduled time for those regularly.\"\n",
      "\n",
      "3.  **Describe Specific Strategies (Action):** Mention concrete strategies you used to manage your time and tasks. Did you use a planner? Did you break down large tasks into smaller ones? Did you use any specific time management techniques like the Pomodoro Technique? For example: \"I broke down the programming project into smaller, manageable modules and set daily goals for completing each module. I also used the Pomodoro Technique to stay focused and avoid burnout.\"\n",
      "\n",
      "4.  **Highlight Communication (if applicable):** If you sought guidance from professors or collaborated with classmates, mention it. This is particularly important given the job description. For example: \"I regularly met with my programming group to discuss progress and address any roadblocks. I also attended office hours to clarify concepts and ensure I was on the right track.\"\n",
      "\n",
      "5.  **Focus on Results (Result):** Conclude by summarizing the positive outcomes of your efforts. Did you successfully complete all your assignments? What did you learn from the experience? For example: \"As a result, I successfully completed all my assignments on time and maintained a high GPA. This experience taught me the importance of effective time management, task prioritization, and seeking help when needed.\"\n",
      "\n",
      "6.  **Incorporate Keywords from the Job Description:** Look for keywords in the job description related to time management, prioritization, and communication, and try to incorporate them into your answer.\n",
      "\n",
      "**Revised Example (based on your answer and the above feedback):**\n",
      "\n",
      "\"During my junior year, I was taking a full course load, including a programming class with a major group project, a history class with weekly essays, and a statistics class with bi-weekly quizzes. To prioritize, I used a matrix that considered both the impact on my final grade and the imminence of the deadline. The programming project was worth 40% of my grade and had a looming deadline, so I prioritized that. I broke down the programming project into smaller, manageable modules and set daily goals for completing each module. I also used a digital planner to schedule time for each task and track my progress. I regularly met with my programming group to discuss progress and address any roadblocks. As a result, I successfully completed all my assignments on time and maintained a high GPA. This experience taught me the importance of effective time management, task prioritization, and seeking help when needed.\"\n",
      "\n",
      "This revised example is still relatively simple, but it's a significant improvement over your initial answer. It provides more context, demonstrates specific strategies, and highlights the positive outcomes of your efforts. Remember to tailor your answer to your own experiences and the specific requirements of the job. Good luck!\n"
     ]
    }
   ],
   "source": [
    "# 1. Select a question for the user to answer\n",
    "practice_question = interview_questions[6] \n",
    "print(f\"\\\\n--- Interview Practice ---\")\n",
    "print(f\"Question: {practice_question}\")\n",
    "\n",
    "# 2. Get the user's answer\n",
    "user_answer = input(\"Your answer: \")\n",
    "\n",
    "# 3. Define a prompt for feedback generation\n",
    "feedback_prompt_text = \"\"\"\n",
    "You are a helpful and constructive interview coach. Your task is to compare the User's Answer with the Ideal Answer for the given interview question.\n",
    "Provide feedback on the user's answer, highlighting its strengths and suggesting specific, actionable improvements.\n",
    "Focus on whether the user effectively leveraged their experience (as detailed in the ideal answer) and how they could better align with the job's needs.\n",
    "\n",
    "Interview Question:\n",
    "{question}\n",
    "\n",
    "Ideal Answer (based on resume and job description):\n",
    "{ideal_answer}\n",
    "\n",
    "User's Answer:\n",
    "{user_answer}\n",
    "\n",
    "Constructive Feedback:\n",
    "\"\"\"\n",
    "feedback_prompt = ChatPromptTemplate.from_template(feedback_prompt_text)\n",
    "\n",
    "# 4. Create the feedback generation chain\n",
    "feedback_chain = feedback_prompt | llm\n",
    "\n",
    "# 5. Generate and display the feedback\n",
    "ideal_answer_for_q = ideal_answers[practice_question]\n",
    "feedback = feedback_chain.invoke({\n",
    "    \"question\": practice_question,\n",
    "    \"ideal_answer\": ideal_answer_for_q,\n",
    "    \"user_answer\": user_answer\n",
    "})\n",
    "\n",
    "print(\"\\\\n--- Your Feedback ---\")\n",
    "print(feedback.content)"
   ]
  },
  {
   "cell_type": "code",
   "execution_count": null,
   "id": "71e1acb4",
   "metadata": {},
   "outputs": [],
   "source": []
  }
 ],
 "metadata": {
  "kernelspec": {
   "display_name": "medibot",
   "language": "python",
   "name": "python3"
  },
  "language_info": {
   "codemirror_mode": {
    "name": "ipython",
    "version": 3
   },
   "file_extension": ".py",
   "mimetype": "text/x-python",
   "name": "python",
   "nbconvert_exporter": "python",
   "pygments_lexer": "ipython3",
   "version": "3.10.18"
  }
 },
 "nbformat": 4,
 "nbformat_minor": 5
}
